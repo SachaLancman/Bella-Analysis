{
 "cells": [
  {
   "attachments": {},
   "cell_type": "markdown",
   "metadata": {},
   "source": [
    "---\n",
    "author: \"Sacha Lancman\"\n",
    "---\n",
    "\n",
    "# Bella Beat Analysis\n",
    "\n",
    "## Preparation and Cleaning\n",
    "\n",
    "### Installing and loading the packages\n"
   ]
  },
  {
   "cell_type": "code",
   "execution_count": null,
   "metadata": {
    "vscode": {
     "languageId": "r"
    }
   },
   "outputs": [],
   "source": [
    "install.packages(\"lubridate\")\n",
    "library(lubridate)\n",
    "\n",
    "install.packages(\"tidyverse\")\n",
    "library(tidyverse)"
   ]
  },
  {
   "attachments": {},
   "cell_type": "markdown",
   "metadata": {},
   "source": [
    "### Loading the data:\n",
    "\n",
    "After taking a look at all the tables in the dataset, here are the\n",
    "tables that I will need to perform my analysis. I did not keep the\n",
    "minutes and seconds tables (except for heartrate_seconds_merged) because\n",
    "it will not be interesting to have that level of precision in time. We\n",
    "already have the same data hourly and daily."
   ]
  },
  {
   "cell_type": "code",
   "execution_count": null,
   "metadata": {
    "vscode": {
     "languageId": "r"
    }
   },
   "outputs": [],
   "source": [
    "dailyActivity_merged <- read_csv(\"dailyActivity_merged.csv\")\n",
    "View(dailyActivity_merged)\n",
    "\n",
    "hourlyCalories_merged <- read_csv(\"hourlyCalories_merged.csv\")\n",
    "View(hourlyCalories_merged)\n",
    "\n",
    "hourlyIntensities_merged <- read_csv(\"hourlyIntensities_merged.csv\")\n",
    "View(hourlyIntensities_merged)\n",
    "\n",
    "hourlySteps_merged <- read_csv(\"hourlySteps_merged.csv\")\n",
    "View(hourlySteps_merged)\n",
    "\n",
    "sleepDay_merged <- read_csv(\"sleepDay_merged.csv\")\n",
    "View(sleepDay_merged)\n",
    "\n",
    "weightLogInfo_merged <- read_csv(\"weightLogInfo_merged.csv\")\n",
    "View(sleepDay_merged)"
   ]
  },
  {
   "attachments": {},
   "cell_type": "markdown",
   "metadata": {},
   "source": [
    "With the way the data has been imported (files tab, import data set), I\n",
    "can see details such as the data type for each columns, the number of\n",
    "rows and columns, and the column names.\n",
    "\n",
    "\n",
    "### transform the data\n",
    "\n",
    "After joining all the data, I will have 2 tables.\n",
    "\n",
    "The daily table (dailyActivity_merged + sleepDay_merged +\n",
    "weightLogInfo_merged) and the hourly table (hourlyCalories_merged +\n",
    "hourlyIntensities_merged + hourlySteps_merged) \n",
    "\n",
    "I chose an inner join for the hourly tables because they all have the same number of rows, 22099."
   ]
  },
  {
   "cell_type": "code",
   "execution_count": null,
   "metadata": {
    "vscode": {
     "languageId": "r"
    }
   },
   "outputs": [],
   "source": [
    "hourly_p2 <- hourlyCalories_merged %>% inner_join(hourlyIntensities_merged, by = c('Id','ActivityHour'))\n",
    "\n",
    "hourly_table <- hourly_p2 %>% inner_join(hourlySteps_merged, by = c('Id', 'ActivityHour'))"
   ]
  },
  {
   "attachments": {},
   "cell_type": "markdown",
   "metadata": {},
   "source": [
    "To join (dailyActivity_merged + sleepDay_merged + weightLogInfo_merged),\n",
    "I need them to have the same date columns. One column only has mdy dates\n",
    "and the other have mdy + hms dates. After checking the type of data,\n",
    "they are all chr, I know I can use the separate function and divide them\n",
    "thanks to the space in between mdy and hms."
   ]
  },
  {
   "cell_type": "code",
   "execution_count": null,
   "metadata": {
    "vscode": {
     "languageId": "r"
    }
   },
   "outputs": [],
   "source": [
    "class(weightLogInfo_merged$Date)\n",
    "class(dailyActivity_merged$ActivityDate)\n",
    "class(sleepDay_merged$SleepDay)\n",
    "\n",
    "new_weight <- weightLogInfo_merged %>% separate(Date, c(\"ActivityDate\", \"col2\"), \" \")\n",
    "new_sleep <- sleepDay_merged %>% separate(SleepDay, c(\"ActivityDate\", \"col2\"), \" \")"
   ]
  },
  {
   "attachments": {},
   "cell_type": "markdown",
   "metadata": {},
   "source": [
    "Dropping columns I won't use"
   ]
  },
  {
   "cell_type": "code",
   "execution_count": null,
   "metadata": {
    "vscode": {
     "languageId": "r"
    }
   },
   "outputs": [],
   "source": [
    "new_weight_2 <- new_weight[,-c(3,6,9)]\n",
    "\n",
    "new_sleep_3 <- new_sleep[,-c(3,4)]\n",
    "\n",
    "new_daily <- dailyActivity_merged[,-c(5,6,10)]"
   ]
  },
  {
   "attachments": {},
   "cell_type": "markdown",
   "metadata": {},
   "source": [
    "Joining daily tables. Unlike the hourly tables, the daily tables do not\n",
    "have the same amount of rows(940, 413 and 67). I will use a left join,\n",
    "and it will give a large amount of NULL values on the columns that are\n",
    "added."
   ]
  },
  {
   "cell_type": "code",
   "execution_count": null,
   "metadata": {
    "vscode": {
     "languageId": "r"
    }
   },
   "outputs": [],
   "source": [
    "new_daily_2 <- new_daily %>% left_join(new_sleep_3, by=c('Id','ActivityDate'))\n",
    "\n",
    "daily_table <- new_daily_2 %>% left_join(new_weight_2, by=c('Id','ActivityDate'))"
   ]
  },
  {
   "attachments": {},
   "cell_type": "markdown",
   "metadata": {},
   "source": [
    "The dates come back as chr, we need to convert them to date:"
   ]
  },
  {
   "cell_type": "code",
   "execution_count": null,
   "metadata": {
    "vscode": {
     "languageId": "r"
    }
   },
   "outputs": [],
   "source": [
    "daily_table$ActivityDate <- mdy(daily_table$ActivityDate)\n",
    "class(daily_table$ActivityDate)"
   ]
  },
  {
   "attachments": {},
   "cell_type": "markdown",
   "metadata": {},
   "source": [
    "adding columns (time to fall asleep and weekdays):"
   ]
  },
  {
   "cell_type": "code",
   "execution_count": null,
   "metadata": {
    "vscode": {
     "languageId": "r"
    }
   },
   "outputs": [],
   "source": [
    "daily_table$time_to_fall_alseep <- (daily_table$TotalTimeInBed - daily_table$TotalMinutesAsleep)\n",
    "\n",
    "daily_table$weekday <- wday(daily_table$ActivityDate)"
   ]
  },
  {
   "attachments": {},
   "cell_type": "markdown",
   "metadata": {},
   "source": [
    "Looking at the tables. Checking the data types:"
   ]
  },
  {
   "cell_type": "code",
   "execution_count": null,
   "metadata": {
    "vscode": {
     "languageId": "r"
    }
   },
   "outputs": [],
   "source": [
    "str(daily_table)\n",
    "str(hourly_table)\n",
    "\n",
    "summarise(daily_table)\n",
    "summarise(hourly_table)\n",
    "\n",
    "daily_table %>% summary()\n",
    "hourly_table %>% summary()"
   ]
  },
  {
   "attachments": {},
   "cell_type": "markdown",
   "metadata": {},
   "source": [
    "Looking at how many distinct id I have in both of my tables:"
   ]
  },
  {
   "cell_type": "code",
   "execution_count": null,
   "metadata": {
    "vscode": {
     "languageId": "r"
    }
   },
   "outputs": [],
   "source": [
    "n_distinct(daily_table$Id)\n",
    "n_distinct(hourly_table$Id)"
   ]
  },
  {
   "attachments": {},
   "cell_type": "markdown",
   "metadata": {},
   "source": [
    "### Tableau analysis\n",
    "\n",
    "I will conduct a tableau analysis on both of the tables:\n",
    "\n",
    "#### daily table observations\n",
    "\n",
    "It seems obvious that there is a positive correlation between the total steps\n",
    "and the total distance but it is always good to check.\n",
    "\n",
    "\n",
    "![Alt text](../../steps%20x%20distance.png.jpg)\n",
    "\n",
    "\n",
    "\n",
    "It is similar with with the Weight and the BMI, but I believe that the BMI, \n",
    "even if not perfect, is still better to use in this situation because it takes\n",
    "in consideration the height of the person.\n",
    "\n",
    " ![Alt text](https://file%2B.vscode-resource.vscode-cdn.net/c%3A/Users/lancm/OneDrive/Documents/google_data/trips/bella/BMI%20x%20Weight.jpg?version%3D1676512159082)\n",
    "\n",
    "This chart confirms what I thought, calories and weight have a positive correlation,\n",
    "whereas calories and BMI don't. \n",
    "\n",
    "![Alt text](../cal%20x%20wei%20x%20bmi.jpg)\n",
    "\n",
    "\n",
    "Looking a the sleep time x total distance, I believed that the more sleep, the more \n",
    "distance. But after looking at the data, the scatter plot shows us no correlation.\n",
    "The trend line, on the other hand, tells us there is a negative correlation.\n",
    "My guess is that people sleep more on the days they don't work, thus the more they \n",
    "sleep, the less active they are.\n",
    "\n",
    "![Alt text](../minute%20asleep%20x%20total%20distance.jpg)\n",
    "\n",
    "There is also a positive correlation between the total distance and the calories,\n",
    "which is normal, the more people are active, the more they need calories.\n",
    "\n",
    "![Alt text](../distance%20x%20cal.jpg)\n",
    "\n",
    "\n"
   ]
  },
  {
   "attachments": {},
   "cell_type": "markdown",
   "metadata": {},
   "source": [
    "I also wanted to see if there were any differences between the difference days of the week:\n",
    "\n",
    "The sedentary minutes are obviously the highest no matter what, because it accounts for the sleep time as well. The surprise is the very active minutes that is always higher than the fairly active one. Overall, no real differences between the days.\n",
    "\n",
    "![Alt text](../intensity%20x%20day%20x%20min.jpg)\n",
    "\n",
    "It is the same with this chart, comparing the Calories and Distance grouped by the days of the week again. No real diference, not matter what day we look at.\n",
    "\n",
    "![Alt text](../Dis%20x%20cal%20x%20day.jpg)"
   ]
  },
  {
   "attachments": {},
   "cell_type": "markdown",
   "metadata": {},
   "source": [
    "#### Hourly table observations:\n",
    "\n",
    "The hourly table had a many more rows, which made the results smoothers, but had other limitations, it only had 4 interesting columns.\n",
    "Here are the results and the graph:\n",
    "\n",
    "![Alt text](../hourly2.jpg)\n",
    "\n",
    "When you will see the most calories, intensities and total steps is betwee 6am and 10pm, which again is logical since this is when people are awake. Important to note that the calories have a lot less volatility. You can see the steps go x50 depending on the hour whereas the max calories isn't even twice as big as the min calories.\n"
   ]
  }
 ],
 "metadata": {
  "language_info": {
   "name": "python"
  },
  "orig_nbformat": 4
 },
 "nbformat": 4,
 "nbformat_minor": 2
}
